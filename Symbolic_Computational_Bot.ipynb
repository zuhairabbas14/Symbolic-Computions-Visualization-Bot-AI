{
  "nbformat": 4,
  "nbformat_minor": 0,
  "metadata": {
    "colab": {
      "name": "Symbolic Computational Bot.ipynb",
      "provenance": []
    },
    "kernelspec": {
      "name": "python3",
      "display_name": "Python 3"
    }
  },
  "cells": [
    {
      "cell_type": "markdown",
      "metadata": {
        "id": "wN4LDvwXOHm9"
      },
      "source": [
        "\n",
        "\n",
        "---\n",
        "\n",
        "**1- Symbolic computations**\n",
        "\n",
        "---\n",
        "\n"
      ]
    },
    {
      "cell_type": "code",
      "metadata": {
        "id": "EOF-0MHT-_zK"
      },
      "source": [
        "from sympy import *\n",
        "import numpy as np\n",
        "import matplotlib.pyplot as plt"
      ],
      "execution_count": null,
      "outputs": []
    },
    {
      "cell_type": "code",
      "metadata": {
        "colab": {
          "base_uri": "https://localhost:8080/"
        },
        "id": "pDrIX0hSCNU4",
        "outputId": "21dd8b55-8743-4cab-adba-60d6e77da628"
      },
      "source": [
        "x = Symbol('x')\n",
        "f = x**7 - 13*x**6 + 37*x**5 + 125*x**4 - 806*x**3 + 1328*x**2 - 672*x - 10000\n",
        "fd = diff(f)\n",
        "fdd = diff(fd)\n",
        "dRoots = solveset(fd, x)\n",
        "ddRoots = solveset(fdd, x)\n",
        "\n",
        "res = list(zip([float(_) for _ in dRoots if fdd.subs(x, _) > 0], [float(f.subs(x, _)) for _ in dRoots if fdd.subs(x, _) > 0]))\n",
        "x_points = [x[0] for x in res]\n",
        "y_points = [x[1] for x in res]\n",
        "\n",
        "max = res[0]\n",
        "for a in res:\n",
        "  if a[1] > max[1]:\n",
        "    max = a\n",
        "\n",
        "print('All points: ', res)\n",
        "print('Maxima: ', max)"
      ],
      "execution_count": null,
      "outputs": [
        {
          "output_type": "stream",
          "text": [
            "All points:  [(0.3628552359615001, -10105.124815613532), (2.5361932783876937, -10041.380965207589), (6.294361670928645, -17857.39629223587)]\n",
            "Maxima:  (2.5361932783876937, -10041.380965207589)\n"
          ],
          "name": "stdout"
        }
      ]
    },
    {
      "cell_type": "code",
      "metadata": {
        "colab": {
          "base_uri": "https://localhost:8080/",
          "height": 607
        },
        "id": "hsTeAbhu_OKf",
        "outputId": "d99459e7-b087-4205-8644-ae4d16376d5e"
      },
      "source": [
        "# PLOTTING MAXIMA\n",
        "\n",
        "critical_points = list(solveset(fd, x))\n",
        "critical_points = [a for a in critical_points if fdd.subs(x, a) > 0]\n",
        "critical_pointsy = [f.subs(x, a) for a in critical_points]\n",
        "\n",
        "xx = np.linspace(-50, 50, 100000)\n",
        "yy = lambdify(x, f)(xx)\n",
        "\n",
        "plt.figure(figsize=(15,10))\n",
        "plt.title('LOCAL MAXIMA')\n",
        "plt.plot(xx, np.transpose(yy))\n",
        "plt.plot(critical_points, critical_pointsy, 'k*')\n",
        "plt.show()"
      ],
      "execution_count": null,
      "outputs": [
        {
          "output_type": "display_data",
          "data": {
            "image/png": "[encoded data removed]",
            "text/plain": [
              "<Figure size 1080x720 with 1 Axes>"
            ]
          },
          "metadata": {
            "tags": [],
            "needs_background": "light"
          }
        }
      ]
    },
    {
      "cell_type": "code",
      "metadata": {
        "id": "kVjA_u25UGXC"
      },
      "source": [
        "vals = list(zip([float(_) for _ in dRoots if fdd.subs(x, _) > 0], [float(f.subs(x, _)) for _ in dRoots if fdd.subs(x, _) > 0]))"
      ],
      "execution_count": null,
      "outputs": []
    },
    {
      "cell_type": "code",
      "metadata": {
        "colab": {
          "base_uri": "https://localhost:8080/"
        },
        "id": "kGqvzZZ_VAFw",
        "outputId": "7afc6773-2b94-4b72-c6d9-04da6153e182"
      },
      "source": [
        "print(vals)"
      ],
      "execution_count": null,
      "outputs": [
        {
          "output_type": "stream",
          "text": [
            "[(0.3628552359615001, -10105.124815613532), (2.5361932783876937, -10041.380965207589), (6.294361670928645, -17857.39629223587)]\n"
          ],
          "name": "stdout"
        }
      ]
    },
    {
      "cell_type": "markdown",
      "metadata": {
        "id": "mJU_jnOoy2PF"
      },
      "source": [
        "\r\n",
        "\r\n",
        "---\r\n",
        "\r\n",
        "**2- BOT**\r\n",
        "\r\n",
        "---\r\n",
        "\r\n"
      ]
    },
    {
      "cell_type": "code",
      "metadata": {
        "id": "yHAinRE3wX_g"
      },
      "source": [
        "!pip install wolframalpha api"
      ],
      "execution_count": null,
      "outputs": []
    },
    {
      "cell_type": "code",
      "metadata": {
        "colab": {
          "base_uri": "https://localhost:8080/",
          "height": 464
        },
        "id": "9HB56ew9YE0j",
        "outputId": "13fb06cd-6623-4d85-b972-9a31a7b5f1ae"
      },
      "source": [
        "import re\n",
        "import wolframalpha\n",
        "from sympy.parsing.sympy_parser import parse_expr\n",
        "from sympy.parsing.sympy_parser import standard_transformations,implicit_multiplication_application\n",
        "from sympy.abc import x\n",
        "from sympy import Function, dsolve, Eq, Derivative, sin, cos, symbols\n",
        "\n",
        "client = wolframalpha.Client('xxx - xxx - xxx')\n",
        "transformations = (standard_transformations + (implicit_multiplication_application,))\n",
        "\n",
        "print('Please enter the equation: ')\n",
        "qs = input()\n",
        "\n",
        "if re.search('[a-zA-Z]', qs) == None:\n",
        "  print('\\nAnswer: ' , str(parse_expr(qs)))\n",
        "else:\n",
        "  if re.search('[’]', qs) != None:\n",
        "    res = client.query(qs)\n",
        "    output = next(res.results).text\n",
        "    print('\\nAnswer: ', str(output))\n",
        "    to_plot = output.split('=')[1]\n",
        "    to_plot = to_plot.replace('c_1', '0')\n",
        "    plot(to_plot)\n",
        "  else:\n",
        "    x = Symbol('x')\n",
        "    qs = qs.replace(\"^\", \"**\")\n",
        "    eq1, eq2 = qs.split('=')\n",
        "    eq1 = parse_expr(eq1, evaluate=False, transformations=transformations)\n",
        "    eq2 = parse_expr(eq2, evaluate=False, transformations=transformations)\n",
        "    new_eq = eq1 - eq2\n",
        "    ans = solveset(new_eq, x)\n",
        "    print('\\nAnswer: ', str(ans))\n",
        "    to_plot = eq1\n",
        "    plot(to_plot)"
      ],
      "execution_count": null,
      "outputs": [
        {
          "output_type": "stream",
          "text": [
            "Please enter the equation: \n",
            "f’ = cos(x)\n",
            "\n",
            "Answer:  f(x) = c_1 + sin(x)\n"
          ],
          "name": "stdout"
        },
        {
          "output_type": "stream",
          "text": [
            "/usr/local/lib/python3.6/dist-packages/sympy/plotting/plot.py:890: MatplotlibDeprecationWarning: \n",
            "The set_smart_bounds function was deprecated in Matplotlib 3.2 and will be removed two minor releases later.\n",
            "  self.ax.spines['left'].set_smart_bounds(True)\n",
            "/usr/local/lib/python3.6/dist-packages/sympy/plotting/plot.py:891: MatplotlibDeprecationWarning: \n",
            "The set_smart_bounds function was deprecated in Matplotlib 3.2 and will be removed two minor releases later.\n",
            "  self.ax.spines['bottom'].set_smart_bounds(False)\n"
          ],
          "name": "stderr"
        },
        {
          "output_type": "display_data",
          "data": {
            "image/png": "[encoded data removed]",
            "text/plain": [
              "<Figure size 432x288 with 1 Axes>"
            ]
          },
          "metadata": {
            "tags": [],
            "needs_background": "light"
          }
        }
      ]
    }
  ]
}